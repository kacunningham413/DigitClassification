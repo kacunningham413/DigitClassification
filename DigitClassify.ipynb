{
 "cells": [
  {
   "cell_type": "markdown",
   "metadata": {},
   "source": [
    "## Classification of Handwritten Digits\n",
    "\n",
    "Written by: Kane Cunningham, 06/2015\n",
    "\n",
    "This project explores methods for classifying handwritten digits from the MNIST data set as given in a long-term, no-prize Kaggle competition. Hand written digits are digitized as 8-bit grayscale images, 28x28 pixels. Each image is therefore represented as a 784-element vector of integers, each in the range 0-255. The data set contains 42,000 images. So, while the number of images is relatively small, the dimensionality is relatively high.\n",
    "\n",
    "The goal was to test a variety of classifiers alone and combined with dimensionality reduction. The general strategy was to first test a variety of classifiers, then test classifiers with dimensionality reduction, and then choose the final model and make final refinements. \n",
    "\n",
    "Note that state of the art classifiers for handwritten digits depend on pre-processing methods such as rotation relative to an estimated central axis. Such methods are not considered for this exercise.\n",
    "\n",
    "There is a lot of cross-validated grid search in this notebook that can be very time-intensive. In practice, I usually do some initial probing with 1 or 2 parameters and a smaller training sample in order to establish a reasonable search range before implementing the final search. This help avoid unnecessarily large Cartesian products."
   ]
  },
  {
   "cell_type": "markdown",
   "metadata": {},
   "source": [
    "### Setup: dependencies and loading data"
   ]
  },
  {
   "cell_type": "code",
   "execution_count": 1,
   "metadata": {
    "collapsed": true
   },
   "outputs": [],
   "source": [
    "import csv\n",
    "import numpy as np\n",
    "import pandas as pd\n",
    "import matplotlib.pyplot as plt\n",
    "import matplotlib.cm as cm\n",
    "import sklearn.base as base\n",
    "from sklearn.decomposition import RandomizedPCA, ProjectedGradientNMF\n",
    "from sklearn.svm import SVC\n",
    "from sklearn.neighbors import KNeighborsClassifier\n",
    "from sklearn import grid_search\n",
    "from sklearn.linear_model import SGDClassifier, SGDRegressor, LinearRegression\n",
    "from scipy.spatial.distance import cosine, euclidean\n",
    "from sklearn.pipeline import Pipeline\n",
    "from sklearn.pipeline import FeatureUnion\n",
    "from sklearn.svm import SVC\n",
    "from sklearn.cross_validation import ShuffleSplit\n",
    "import time"
   ]
  },
  {
   "cell_type": "code",
   "execution_count": 2,
   "metadata": {
    "collapsed": true
   },
   "outputs": [],
   "source": [
    "# For plotting inline\n",
    "%matplotlib inline\n",
    "import matplotlib\n",
    "import seaborn as sns\n",
    "matplotlib.rcParams['savefig.dpi'] = 2 * matplotlib.rcParams['savefig.dpi']"
   ]
  },
  {
   "cell_type": "code",
   "execution_count": 3,
   "metadata": {
    "collapsed": false
   },
   "outputs": [],
   "source": [
    "# read file\n",
    "filename = 'train.csv'\n",
    "\n",
    "labels = []\n",
    "features = []\n",
    "with open(filename, 'r') as f:\n",
    "    readr = csv.reader(f)\n",
    "    next(readr)\n",
    "    for line in readr:\n",
    "        labels.append(int(line[0]))\n",
    "        features.append([int(x) for x in line[1:]])"
   ]
  },
  {
   "cell_type": "markdown",
   "metadata": {},
   "source": [
    "### Logistic Regression Classifier\n",
    "Cross-validated grid search on a SGD classifier gave logisitic regression with L1 regularization as the optimal parameters. This relatively simple model has an out-of-sample accuracy of 0.89.\n"
   ]
  },
  {
   "cell_type": "code",
   "execution_count": 224,
   "metadata": {
    "collapsed": false
   },
   "outputs": [
    {
     "name": "stdout",
     "output_type": "stream",
     "text": [
      "Fitting 3 folds for each of 2 candidates, totalling 6 fits\n"
     ]
    },
    {
     "name": "stderr",
     "output_type": "stream",
     "text": [
      "[Parallel(n_jobs=4)]: Done   1 jobs       | elapsed:  1.4min\n",
      "[Parallel(n_jobs=4)]: Done   6 out of   6 | elapsed:  6.3min finished\n"
     ]
    },
    {
     "name": "stdout",
     "output_type": "stream",
     "text": [
      "{'alpha': 0.0001, 'loss': 'log'}\n",
      "0.890833333333\n"
     ]
    }
   ],
   "source": [
    "log_clf = SGDClassifier(loss='log', penalty='l1', alpha=0.0001,\\\n",
    "                    fit_intercept=True, n_iter=15, warm_start=True)\n",
    "\n",
    "log_clf_GS = grid_search.GridSearchCV(log_clf, param_grid = \\\n",
    "                                  dict(loss=['log'],\\\n",
    "        alpha=[10**x for x in range(-5,-3,1)]),\\\n",
    "                                    n_jobs=4, verbose=1)\n",
    "log_clf_GS.fit(features,labels)\n",
    "print(log_clf_GS.best_params_)\n",
    "print(log_clf_GS.best_score_)"
   ]
  },
  {
   "cell_type": "code",
   "execution_count": 225,
   "metadata": {
    "collapsed": false
   },
   "outputs": [
    {
     "data": {
      "text/plain": [
       "0.90523809523809529"
      ]
     },
     "execution_count": 225,
     "metadata": {},
     "output_type": "execute_result"
    }
   ],
   "source": [
    "log_clf_opt = SGDClassifier(loss='log', penalty='l1', alpha=10**(-4),\\\n",
    "                    fit_intercept=True, n_iter=30, warm_start=True)\n",
    "\n",
    "log_clf_opt.fit(features,labels)\n",
    "log_clf_opt.score(features,labels)"
   ]
  },
  {
   "cell_type": "markdown",
   "metadata": {},
   "source": [
    "### C-SVM Classifier\n",
    "C-Support Vector Machine. Cross-validated accuracy is considerably higher than logistic regression at 0.97. The model is somewhat slow and may not scale well."
   ]
  },
  {
   "cell_type": "code",
   "execution_count": 43,
   "metadata": {
    "collapsed": false
   },
   "outputs": [
    {
     "name": "stdout",
     "output_type": "stream",
     "text": [
      "Fitting 3 folds for each of 9 candidates, totalling 27 fits\n"
     ]
    },
    {
     "name": "stderr",
     "output_type": "stream",
     "text": [
      "[Parallel(n_jobs=4)]: Done   1 jobs       | elapsed:  3.5min\n",
      "[Parallel(n_jobs=4)]: Done  21 out of  27 | elapsed: 22.3min remaining:  6.4min\n",
      "[Parallel(n_jobs=4)]: Done  27 out of  27 | elapsed: 28.2min finished\n"
     ]
    },
    {
     "name": "stdout",
     "output_type": "stream",
     "text": [
      "{'C': 0.7, 'gamma': 0, 'degree': 2}\n",
      "0.973703703704\n"
     ]
    }
   ],
   "source": [
    "svc_clf = SVC(C=1.0,kernel='poly',degree=2)\n",
    "my_cv = ShuffleSplit(len(features),n_iter=3,test_size=0.3,train_size=0.6)\n",
    "\n",
    "svc_clf_CV = grid_search.GridSearchCV(svc_clf,param_grid = dict(C=[0.6,0.7,0.8],\\\n",
    "                                                        degree=[2],\\\n",
    "                                                      gamma=[0,1.2/784,0.8/784]),\\\n",
    "                                                    cv=my_cv,\\\n",
    "                                                    n_jobs=4,\\\n",
    "                                                    verbose = 1)\n",
    "svc_clf_CV.fit(features,labels)\n",
    "print(svc_clf_CV.best_params_)\n",
    "print(svc_clf_CV.best_score_)"
   ]
  },
  {
   "cell_type": "code",
   "execution_count": null,
   "metadata": {
    "collapsed": true
   },
   "outputs": [],
   "source": [
    "svc_clf_opt = SVC(kernel='poly',C=0.7,degree=2,gamma=0)\n",
    "svc_clf_opt.fit(features,labels)"
   ]
  },
  {
   "cell_type": "markdown",
   "metadata": {},
   "source": [
    "### K Nearest Neighbors Classifier"
   ]
  },
  {
   "cell_type": "code",
   "execution_count": null,
   "metadata": {
    "collapsed": false
   },
   "outputs": [
    {
     "name": "stdout",
     "output_type": "stream",
     "text": [
      "Fitting 3 folds for each of 3 candidates, totalling 9 fits\n"
     ]
    }
   ],
   "source": [
    "# Initial grid search to estimate n_neighbors param\n",
    "KN_clf = KNeighborsClassifier(n_neighbors=5, weights='uniform', algorithm='auto',\\\n",
    "                    leaf_size=30, p=2, metric='minkowski')\n",
    "my_cv = ShuffleSplit(len(features),n_iter=3,test_size=0.3,train_size=0.6)\n",
    "\n",
    "KN_clf_CV = grid_search.GridSearchCV(KN_clf,param_grid = dict(n_neighbors=[1,2,3],\\\n",
    "                                                        p=[1]),\\\n",
    "                                                    cv=my_cv,\\\n",
    "                                                    n_jobs=4,\\\n",
    "                                                    verbose = 1)\n",
    "KN_clf_CV.fit(features,labels)\n",
    "print(KN_clf_CV.best_params_)\n",
    "print(KN_clf_CV.best_score_)"
   ]
  },
  {
   "cell_type": "code",
   "execution_count": null,
   "metadata": {
    "collapsed": true
   },
   "outputs": [],
   "source": [
    "KN_clf_CV.grid_scores_"
   ]
  },
  {
   "cell_type": "markdown",
   "metadata": {},
   "source": [
    "### Adding dimensionality reduction (PCA)\n",
    "Randomized PCA is used to reduce the dimenionality before applying the optimized SVC classifier. A cross-validated parameter search is used to determine the optimal number of components. The results indicate that N=60 is the optimal value and the accuracy is comparable to the SVC classifier used on the the full feature set."
   ]
  },
  {
   "cell_type": "code",
   "execution_count": 61,
   "metadata": {
    "collapsed": false
   },
   "outputs": [],
   "source": [
    "pca = RandomizedPCA(n_components=500, whiten=True)\n",
    "svc_clf_opt = SVC(kernel='poly',C=0.7,degree=2,gamma=0)\n",
    "pca_clf = Pipeline([\n",
    "        ('pca', pca),\n",
    "        ('clf', svc_clf_opt)\n",
    "        ])"
   ]
  },
  {
   "cell_type": "code",
   "execution_count": 71,
   "metadata": {
    "collapsed": false
   },
   "outputs": [
    {
     "name": "stdout",
     "output_type": "stream",
     "text": [
      "Fitting 3 folds for each of 9 candidates, totalling 27 fits\n"
     ]
    },
    {
     "name": "stderr",
     "output_type": "stream",
     "text": [
      "[Parallel(n_jobs=4)]: Done   1 jobs       | elapsed:  1.4min\n",
      "[Parallel(n_jobs=4)]: Done  21 out of  27 | elapsed: 21.2min remaining:  6.1min\n",
      "[Parallel(n_jobs=4)]: Done  27 out of  27 | elapsed: 31.5min finished\n"
     ]
    },
    {
     "name": "stdout",
     "output_type": "stream",
     "text": [
      "{'pca__n_components': 60}\n",
      "0.97623015873\n"
     ]
    }
   ],
   "source": [
    "my_cv = ShuffleSplit(len(features),n_iter=3,test_size=0.2,train_size=0.7)\n",
    "pca_clf_CV = grid_search.GridSearchCV(pca_clf,\\\n",
    "                        param_grid = dict(pca__n_components=[5,10,20,40,60,80,100,140,200]),\\\n",
    "                                                    cv=my_cv,\\\n",
    "                                                    n_jobs=4,\\\n",
    "                                                    verbose = 1)\n",
    "pca_clf_CV.fit(features,labels)\n",
    "print(pca_clf_CV.best_params_)\n",
    "print(pca_clf_CV.best_score_)"
   ]
  },
  {
   "cell_type": "code",
   "execution_count": 112,
   "metadata": {
    "collapsed": false,
    "scrolled": false
   },
   "outputs": [
    {
     "data": {
      "text/plain": [
       "<matplotlib.text.Text at 0x7fb52f872c90>"
      ]
     },
     "execution_count": 112,
     "metadata": {},
     "output_type": "execute_result"
    },
    {
     "data": {
      "image/png": "[encoded data removed]",
      "text/plain": [
       "<matplotlib.figure.Figure at 0x7fb52f9eee90>"
      ]
     },
     "metadata": {},
     "output_type": "display_data"
    }
   ],
   "source": [
    "df = pd.DataFrame(pca_clf_CV.grid_scores_,columns=['N','accuracy','scores'])\n",
    "df['N components']=[x.values()[0] for x in df['N']]\n",
    "my_plt = pd.Series(df['accuracy'].tolist(),index=df['N components']).plot(logx=True)\n",
    "my_plt.set_ylabel('Out-of-Sample Accuracy')"
   ]
  },
  {
   "cell_type": "markdown",
   "metadata": {},
   "source": [
    "####How does adding PCA effect execution time?\n",
    "Table for fit and predict methods using full data set (42,000 entries)\n",
    "\n",
    "| METHOD | NO PCA | WITH PCA |       \n",
    "| :-: |:-------------: | :-:\n",
    "|FIT| 194.82 s | 81.57 s\n",
    "| PREDICT| 330.57 s  | 48.97 s\n",
    "\n",
    "The predict method runs 6.6x faster when dimensionality reduction is included"
   ]
  },
  {
   "cell_type": "markdown",
   "metadata": {},
   "source": [
    "Timing for SVC model alone:"
   ]
  },
  {
   "cell_type": "code",
   "execution_count": 127,
   "metadata": {
    "collapsed": true
   },
   "outputs": [],
   "source": [
    "# Optimized SVC model\n",
    "svc_clf_opt_noPCA = SVC(kernel='poly',C=0.7,degree=2,gamma=0)"
   ]
  },
  {
   "cell_type": "code",
   "execution_count": 128,
   "metadata": {
    "collapsed": false
   },
   "outputs": [
    {
     "name": "stdout",
     "output_type": "stream",
     "text": [
      "Fit time : 194.822201\n",
      "Predict time : 330.572687\n"
     ]
    }
   ],
   "source": [
    "# Measure fit time with no PCA\n",
    "start = time.clock()\n",
    "svc_clf_opt.fit(features,labels)\n",
    "end = time.clock()\n",
    "print \"Fit time : %f\" % (end-start)\n",
    "\n",
    "# Measure predict time with no PCA\n",
    "start = time.clock()\n",
    "svc_clf_opt.predict(features)\n",
    "end = time.clock()\n",
    "print \"Predict time : %f\" % (end-start)"
   ]
  },
  {
   "cell_type": "markdown",
   "metadata": {},
   "source": [
    "Timiing for model with PCA:"
   ]
  },
  {
   "cell_type": "code",
   "execution_count": 114,
   "metadata": {
    "collapsed": false
   },
   "outputs": [],
   "source": [
    "# Optimized PCA model\n",
    "pca = RandomizedPCA(n_components=60, whiten=True)\n",
    "svc_clf_opt = SVC(kernel='poly',C=0.7,degree=2,gamma=0)\n",
    "pca_clf_opt = Pipeline([\n",
    "        ('pca', pca),\n",
    "        ('clf', svc_clf_opt)\n",
    "        ])"
   ]
  },
  {
   "cell_type": "code",
   "execution_count": 126,
   "metadata": {
    "collapsed": false
   },
   "outputs": [
    {
     "name": "stdout",
     "output_type": "stream",
     "text": [
      "Fit time : 81.570246\n",
      "Predict time : 48.969121\n"
     ]
    }
   ],
   "source": [
    "# Measure fit time with PCA\n",
    "start = time.clock()\n",
    "pca_clf_opt.fit(features,labels)\n",
    "end = time.clock()\n",
    "print \"Fit time : %f\" % (end-start)\n",
    "\n",
    "# Measure predict time with PCA\n",
    "start = time.clock()\n",
    "pca_clf_opt.predict(features)\n",
    "end = time.clock()\n",
    "print \"Predict time : %f\" % (end-start)"
   ]
  },
  {
   "cell_type": "markdown",
   "metadata": {},
   "source": [
    "###NMF v. PCA\n",
    "Is one form of dimensionality reduction preferred in this case?"
   ]
  },
  {
   "cell_type": "code",
   "execution_count": 10,
   "metadata": {
    "collapsed": false
   },
   "outputs": [],
   "source": [
    "nmf_trans = ProjectedGradientNMF(n_components = 10, init='nndsvd', beta=1)\n",
    "svc_nmf_clf = SVC(kernel='poly',C=0.7,degree=2,gamma=0)\n",
    "nmf_clf = Pipeline([\n",
    "        ('nmf', nmf_trans),\n",
    "        ('clf', svc_nmf_clf)\n",
    "        ])"
   ]
  },
  {
   "cell_type": "code",
   "execution_count": 16,
   "metadata": {
    "collapsed": false
   },
   "outputs": [
    {
     "name": "stdout",
     "output_type": "stream",
     "text": [
      "Fitting 3 folds for each of 5 candidates, totalling 15 fits\n"
     ]
    },
    {
     "name": "stderr",
     "output_type": "stream",
     "text": [
      "[Parallel(n_jobs=4)]: Done   1 jobs       | elapsed:  3.7min\n",
      "[Parallel(n_jobs=4)]: Done  15 out of  15 | elapsed: 128.4min finished\n"
     ]
    },
    {
     "name": "stdout",
     "output_type": "stream",
     "text": [
      "{'nmf__n_components': 40, 'nmf__beta': 1}\n",
      "0.948095238095\n"
     ]
    }
   ],
   "source": [
    "my_cv = ShuffleSplit(len(features),n_iter=3,test_size=0.2,train_size=0.6)\n",
    "nmf_clf_CV = grid_search.GridSearchCV(nmf_clf,\\\n",
    "                        param_grid = dict(nmf__n_components=[10,20,40,60,100],\\\n",
    "                                                    nmf__beta=[1]),\\\n",
    "                                                    cv=my_cv,\\\n",
    "                                                    n_jobs=4,\\\n",
    "                                                    verbose = 1)\n",
    "nmf_clf_CV.fit(features,labels)\n",
    "print(nmf_clf_CV.best_params_)\n",
    "print(nmf_clf_CV.best_score_)"
   ]
  },
  {
   "cell_type": "code",
   "execution_count": 17,
   "metadata": {
    "collapsed": false
   },
   "outputs": [
    {
     "data": {
      "text/plain": [
       "[mean: 0.87917, std: 0.00356, params: {'nmf__n_components': 10, 'nmf__beta': 1},\n",
       " mean: 0.94611, std: 0.00202, params: {'nmf__n_components': 20, 'nmf__beta': 1},\n",
       " mean: 0.94810, std: 0.00103, params: {'nmf__n_components': 40, 'nmf__beta': 1},\n",
       " mean: 0.93984, std: 0.00208, params: {'nmf__n_components': 60, 'nmf__beta': 1},\n",
       " mean: 0.91163, std: 0.01179, params: {'nmf__n_components': 100, 'nmf__beta': 1}]"
      ]
     },
     "execution_count": 17,
     "metadata": {},
     "output_type": "execute_result"
    }
   ],
   "source": [
    "nmf_clf_CV.grid_scores_"
   ]
  },
  {
   "cell_type": "code",
   "execution_count": 19,
   "metadata": {
    "collapsed": false,
    "scrolled": false
   },
   "outputs": [
    {
     "data": {
      "text/plain": [
       "<matplotlib.text.Text at 0x7fcd207e1110>"
      ]
     },
     "execution_count": 19,
     "metadata": {},
     "output_type": "execute_result"
    },
    {
     "data": {
      "image/png": "[encoded data removed]",
      "text/plain": [
       "<matplotlib.figure.Figure at 0x7fcd2080bb10>"
      ]
     },
     "metadata": {},
     "output_type": "display_data"
    }
   ],
   "source": [
    "df = pd.DataFrame(nmf_clf_CV.grid_scores_,columns=['N','accuracy','scores'])\n",
    "df['N components']=[x.values()[0] for x in df['N']]\n",
    "my_plt = pd.Series(df['accuracy'].tolist(),index=df['N components']).plot(logx=True)\n",
    "my_plt.set_ylabel('Out-of-Sample Accuracy')"
   ]
  },
  {
   "cell_type": "code",
   "execution_count": 5,
   "metadata": {
    "collapsed": false
   },
   "outputs": [],
   "source": [
    "# Optimized classifier\n",
    "nmf_trans = ProjectedGradientNMF(n_components = 30, init='nndsvd', beta=1)\n",
    "svc_nmf_clf_opt = SVC(kernel='poly',C=0.7,degree=2,gamma=0)\n",
    "nmf_clf_opt = Pipeline([\n",
    "        ('nmf', nmf_trans),\n",
    "        ('clf', svc_nmf_clf)\n",
    "        ])"
   ]
  },
  {
   "cell_type": "markdown",
   "metadata": {},
   "source": [
    "####Timing for NMF v. PCA\n",
    "Table for fit and predict methods using full data set (42,000 entries)\n",
    "\n",
    "| METHOD | SVC | WITH PCA | WITH NMF       \n",
    "| :------------: |:-------------: | :-: | :-: |\n",
    "|FIT| 194.82 s | 81.57 s | 1059.88 s |\n",
    "| PREDICT| 330.57 s  | 48.97 s | 71.80 s |\n",
    "\n",
    "NMF is considerably slower with comparable accuracy at best"
   ]
  },
  {
   "cell_type": "markdown",
   "metadata": {},
   "source": [
    "NMF execution time:"
   ]
  },
  {
   "cell_type": "code",
   "execution_count": 6,
   "metadata": {
    "collapsed": false
   },
   "outputs": [
    {
     "name": "stdout",
     "output_type": "stream",
     "text": [
      "Fit time : 1059.883515\n",
      "Predict time : 71.800812\n"
     ]
    },
    {
     "name": "stderr",
     "output_type": "stream",
     "text": [
      "/usr/local/lib/python2.7/dist-packages/sklearn/decomposition/nmf.py:533: UserWarning: Iteration limit reached during fit\n",
      "  warnings.warn(\"Iteration limit reached during fit\")\n"
     ]
    }
   ],
   "source": [
    "# Measure fit time with NMF\n",
    "start = time.clock()\n",
    "nmf_clf_opt.fit(features,labels)\n",
    "end = time.clock()\n",
    "print \"Fit time : %f\" % (end-start)\n",
    "\n",
    "# Measure predict time with NMF\n",
    "start = time.clock()\n",
    "nmf_clf_opt.predict(features)\n",
    "end = time.clock()\n",
    "print \"Predict time : %f\" % (end-start)"
   ]
  },
  {
   "cell_type": "markdown",
   "metadata": {},
   "source": [
    "####NMF v. PCA Conclusions\n",
    "The conclusion here is that randomized PCA performs better than projected gradient NMF for this data set in terms of both accuracy and execution time. Fit times for projected gradient NMF are too slow for rigorous cross-validated grid search to be practical."
   ]
  },
  {
   "cell_type": "code",
   "execution_count": null,
   "metadata": {
    "collapsed": true
   },
   "outputs": [],
   "source": []
  }
 ],
 "metadata": {
  "kernelspec": {
   "display_name": "Python 2",
   "language": "python",
   "name": "python2"
  },
  "language_info": {
   "codemirror_mode": {
    "name": "ipython",
    "version": 2
   },
   "file_extension": ".py",
   "mimetype": "text/x-python",
   "name": "python",
   "nbconvert_exporter": "python",
   "pygments_lexer": "ipython2",
   "version": "2.7.6"
  }
 },
 "nbformat": 4,
 "nbformat_minor": 0
}
